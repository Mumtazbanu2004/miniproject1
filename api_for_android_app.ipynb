{
 "cells": [
  {
   "cell_type": "code",
   "execution_count": null,
   "id": "0ce35fa0-ec54-44cd-b577-219d598b4243",
   "metadata": {},
   "outputs": [],
   "source": [
    "!pip install fastapi\n",
    "!pip install uvicorn\n",
    "!pip install pickle5\n",
    "!pip install pydantic\n",
    "!pip install scikit-learn\n",
    "!pip install requests\n",
    "!pip install pypi-json\n",
    "!pip install pyngrok\n",
    "!pip install nest-asyncio"
   ]
  },
  {
   "cell_type": "code",
   "execution_count": 3,
   "id": "8c261ee5-78a5-4c7a-9737-981c70b627fa",
   "metadata": {},
   "outputs": [],
   "source": [
    "from fastapi import FastAPI\n",
    "from pydantic import BaseModel\n",
    "import pickle\n",
    "import json\n",
    "import uvicorn\n",
    "from pyngrok import ngrok\n",
    "from fastapi.middleware.cors import CORSMiddleware\n",
    "import nest_asyncio"
   ]
  },
  {
   "cell_type": "code",
   "execution_count": 4,
   "id": "c084a441-190f-46b1-8420-136e84992dab",
   "metadata": {},
   "outputs": [],
   "source": [
    "app = FastAPI()"
   ]
  },
  {
   "cell_type": "code",
   "execution_count": 5,
   "id": "3b1f79d0-1d47-4379-b0f4-004c28391c49",
   "metadata": {},
   "outputs": [],
   "source": [
    "\n",
    "origins = [\"*\"]\n",
    "\n",
    "app.add_middleware(\n",
    "    CORSMiddleware,\n",
    "    allow_origins=origins,\n",
    "    allow_credentials=True,\n",
    "    allow_methods=[\"*\"],\n",
    "    allow_headers=[\"*\"],\n",
    ")"
   ]
  },
  {
   "cell_type": "code",
   "execution_count": 6,
   "id": "456ba5d8-7528-4995-b032-503f1760eb0b",
   "metadata": {},
   "outputs": [],
   "source": [
    "\n",
    "class model_input(BaseModel):\n",
    "\n",
    "    Pregnancies : int\n",
    "    Glucose : int\n",
    "    BloodPressure : int\n",
    "    SkinThickness : int\n",
    "    Insulin : int\n",
    "    BMI : float\n",
    "    DiabetesPedigreeFunction : float\n",
    "    Age : int"
   ]
  },
  {
   "cell_type": "code",
   "execution_count": 7,
   "id": "fa19037d-7493-4730-b69d-f21b9c4beaad",
   "metadata": {},
   "outputs": [],
   "source": [
    "\n",
    "# loading the saved model\n",
    "diabetes_model = pickle.load(open('diabetes_model.pkl', 'rb'))"
   ]
  },
  {
   "cell_type": "code",
   "execution_count": 8,
   "id": "1d86981f-8edf-4fa9-9076-52dd9da1f377",
   "metadata": {},
   "outputs": [],
   "source": [
    "@app.post('/diabetes_prediction')\n",
    "def diabetes_predd(input_parameters : model_input):\n",
    "\n",
    "    input_data = input_parameters.json()\n",
    "    input_dictionary = json.loads(input_data)\n",
    "\n",
    "    preg = input_parameters.Pregnancies\n",
    "    glu = input_parameters.Glucose\n",
    "    bp = input_parameters.BloodPressure\n",
    "    skin = input_parameters.SkinThickness\n",
    "    insulin = input_parameters.Insulin\n",
    "    bmi = input_parameters.BMI\n",
    "    dpf = input_parameters.DiabetesPedigreeFunction\n",
    "    age = input_parameters.Age\n",
    "\n",
    "\n",
    "    input_list = [preg, glu, bp, skin, insulin, bmi, dpf, age]\n",
    "\n",
    "    prediction = diabetes_model.predict([input_list])\n",
    "\n",
    "    if (prediction[0] == 0):\n",
    "        return 'The person is not diabetic'\n",
    "    else:\n",
    "        return 'The person is diabetic'"
   ]
  },
  {
   "cell_type": "code",
   "execution_count": 9,
   "id": "c336efbb-814a-4971-bb5d-ca4bc57d15bd",
   "metadata": {},
   "outputs": [
    {
     "name": "stdout",
     "output_type": "stream",
     "text": [
      "Authtoken configured successfully!\n"
     ]
    }
   ],
   "source": [
    "ngrok.set_auth_token(\"2rqBcbJ3vW0sExM0MDNtGKRexU8_3AmJqNoYPr5HjzBaFr53G\")\n",
    "print(\"Authtoken configured successfully!\")"
   ]
  },
  {
   "cell_type": "code",
   "execution_count": null,
   "id": "cc19c08f-8b98-47f0-a5dd-bf8136c5daeb",
   "metadata": {},
   "outputs": [
    {
     "name": "stderr",
     "output_type": "stream",
     "text": [
      "INFO:     Started server process [19348]\n",
      "INFO:     Waiting for application startup.\n",
      "INFO:     Application startup complete.\n",
      "INFO:     Uvicorn running on http://127.0.0.1:8000 (Press CTRL+C to quit)\n"
     ]
    },
    {
     "name": "stdout",
     "output_type": "stream",
     "text": [
      "Public URL: https://9edd-205-254-168-158.ngrok-free.app\n",
      "INFO:     205.254.168.158:0 - \"GET /docs HTTP/1.1\" 200 OK\n",
      "INFO:     205.254.168.158:0 - \"GET /openapi.json HTTP/1.1\" 200 OK\n",
      "INFO:     205.254.168.158:0 - \"POST /diabetes_prediction HTTP/1.1\" 200 OK\n"
     ]
    },
    {
     "name": "stderr",
     "output_type": "stream",
     "text": [
      "C:\\Users\\user1\\anaconda3\\Lib\\site-packages\\sklearn\\base.py:493: UserWarning: X does not have valid feature names, but SVC was fitted with feature names\n",
      "  warnings.warn(\n"
     ]
    },
    {
     "name": "stdout",
     "output_type": "stream",
     "text": [
      "INFO:     205.254.168.158:0 - \"GET / HTTP/1.1\" 404 Not Found\n",
      "INFO:     205.254.168.158:0 - \"GET /favicon.ico HTTP/1.1\" 404 Not Found\n",
      "INFO:     205.254.168.158:0 - \"GET / HTTP/1.1\" 404 Not Found\n"
     ]
    }
   ],
   "source": [
    "ngrok_tunnel = ngrok.connect(8000)\n",
    "print('Public URL:', ngrok_tunnel.public_url)\n",
    "nest_asyncio.apply()\n",
    "uvicorn.run(app, port=8000)\n",
    "     "
   ]
  },
  {
   "cell_type": "code",
   "execution_count": null,
   "id": "c6fabe6e-a6ff-4c53-a805-533735947bee",
   "metadata": {},
   "outputs": [],
   "source": []
  },
  {
   "cell_type": "code",
   "execution_count": null,
   "id": "008bd9c4-95f1-4bdf-bed0-0243b374ea1a",
   "metadata": {},
   "outputs": [],
   "source": []
  }
 ],
 "metadata": {
  "kernelspec": {
   "display_name": "Python [conda env:base] *",
   "language": "python",
   "name": "conda-base-py"
  },
  "language_info": {
   "codemirror_mode": {
    "name": "ipython",
    "version": 3
   },
   "file_extension": ".py",
   "mimetype": "text/x-python",
   "name": "python",
   "nbconvert_exporter": "python",
   "pygments_lexer": "ipython3",
   "version": "3.12.7"
  }
 },
 "nbformat": 4,
 "nbformat_minor": 5
}
